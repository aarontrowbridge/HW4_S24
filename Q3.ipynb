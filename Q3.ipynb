{
 "cells": [
  {
   "cell_type": "markdown",
   "id": "a23aae7b",
   "metadata": {},
   "source": [
    "## Q3 (5 pts)\n",
    "\n",
    "Please fill out the following project form (one per group). This will primarily be for the TAs to use to understand what you are working on and hopefully be able to better assist you. If you haven't decided on certain aspects of the project, just include what you are currently thinking/what decisions you need to make."
   ]
  },
  {
   "cell_type": "markdown",
   "id": "7674d43c",
   "metadata": {},
   "source": [
    "\n",
    "**(1) Write down your dynamics (handwritten, code, or latex). This can be continuous-time (include how you are discretizing your system) or discrete-time.**"
   ]
  },
  {
   "cell_type": "markdown",
   "id": "c2a65763",
   "metadata": {},
   "source": [
    "Given from the Schrodinger equation:\n",
    "\n",
    "$$\\dot{U} = -iH(\\mathbf{a}(t))\\, U.$$\n",
    "\n",
    "Where (if the system is linear in the controls):\n",
    "$$H(\\mathbf{a}(t)) := H_0 + \\sum_i a_i(t) H_i$$\n",
    "\n",
    "$H_0$ describes the drift term, $H_i$ represents a drive term. Other terms may be included if nonlinear in the controls, this is given as an example.\n",
    "\n",
    "This is formulated in continuous time. To preserve the structure of the matrix Lie group, we will use Padé approximants of the matrix exponential of $H(\\mathbf{a}(t))$ and formulate an implicit dynamics constraint.\n",
    "\n",
    "$$\\text{exp}(U) \\approx B^{-1} (U) F(U),$$\n",
    "$$\\mathbf{P}(\\tilde{U}_{k+1}, \\tilde{U}_k, \\mathbf{a}_k, \\Delta t) := B(\\mathbf{a}_k, \\Delta t) \\tilde{U}_{k+1} - F(\\mathbf{a}_k, \\Delta t) \\tilde{U}_k.$$"
   ]
  },
  {
   "cell_type": "markdown",
   "id": "a354260d",
   "metadata": {},
   "source": [
    "**(2) What is your state (what does each variable represent)?**"
   ]
  },
  {
   "cell_type": "markdown",
   "id": "44a79fa4",
   "metadata": {},
   "source": [
    "The state, given as $U$ is most generally a unitary operator. $$U \\in SU(n)$$"
   ]
  },
  {
   "cell_type": "markdown",
   "id": "b5182ec6",
   "metadata": {},
   "source": [
    "**(3) What is your control (what does each variable represent)?**"
   ]
  },
  {
   "cell_type": "markdown",
   "id": "679724a4",
   "metadata": {},
   "source": [
    "The controls are given as a vector $\\mathbf{a}(t) \\in \\mathbb{R}^n$ which are usually weights for quantum operators."
   ]
  },
  {
   "cell_type": "markdown",
   "id": "1ab1ee48",
   "metadata": {},
   "source": [
    "**(4) Briefly describe your goal for the project. What are you trying to make the system do? Specify whether you are doing control, trajectory optimization, both, or something else.**"
   ]
  },
  {
   "cell_type": "markdown",
   "id": "792fedf6",
   "metadata": {},
   "source": [
    "The goal of the project is to implement and assess feasibility for nonlinear optimization algorithm for Quantum Optimal Control problems. More specifically, we will implement the L-BFGS optimization algorithm using Augmented Langragian methods to enforce constraints (which is not native to BFGS)"
   ]
  },
  {
   "cell_type": "markdown",
   "id": "3b646102",
   "metadata": {},
   "source": [
    "**(5) What are your costs?**"
   ]
  },
  {
   "cell_type": "markdown",
   "id": "de84db11",
   "metadata": {},
   "source": [
    "The cost is generally the unitary infidelity loss:\n",
    "\n",
    "$$\\ell(U) := 1 - \\frac{1}{n} \\left | \\text{tr} \\left(U_{goal}^\\dagger U \\right) \\right|$$"
   ]
  },
  {
   "cell_type": "markdown",
   "id": "368c8b17",
   "metadata": {},
   "source": [
    "**(6) What are your constraints?**"
   ]
  },
  {
   "cell_type": "markdown",
   "id": "4da33bfd",
   "metadata": {},
   "source": [
    "* Dynamics constraints listed above\n",
    "* Initial state constraints\n",
    "* Constraints on the controls, (for free time, fidelity, $\\Delta t$)"
   ]
  },
  {
   "cell_type": "markdown",
   "id": "a0b8ffd2",
   "metadata": {},
   "source": [
    "**(7) What solution methods are you going to try?**\n"
   ]
  },
  {
   "cell_type": "markdown",
   "id": "3188e8af",
   "metadata": {},
   "source": [
    "We are going to try implementing L-BFGS with AL constriants tailored to these quantum problems."
   ]
  },
  {
   "cell_type": "markdown",
   "id": "7f8d9a7d",
   "metadata": {},
   "source": [
    "**(8) What have you tried so far?**"
   ]
  },
  {
   "cell_type": "markdown",
   "id": "e8bbf4ae",
   "metadata": {},
   "source": [
    "Currently, the nonlinear optimization is a direct collocation method via IPOPT using Padé integrators the with above stated dynamics and constraints or other associated quantum control constraints/objectives."
   ]
  },
  {
   "cell_type": "markdown",
   "id": "e6eca77f",
   "metadata": {},
   "source": [
    "**(9) If applicable, what are you currently running into issues with?**"
   ]
  },
  {
   "cell_type": "markdown",
   "id": "e7cfc4f1",
   "metadata": {},
   "source": [
    "Not currently applicable, working on a canned implementation of L-BFGS on some toy problems and then working towards the full AL solver. Currently looking at others implementations in Julia as well as reading up on the other techniques others have used to implement constraints (L-BFGS-B(ox) constraints, introducing slack variables for ineq. constraints, etc.)"
   ]
  },
  {
   "cell_type": "markdown",
   "id": "aed4e1da",
   "metadata": {},
   "source": [
    "**(10) If your system doesn't fit with some of the questions above or there are additional things you'd like to elaborate on, please explain/do that here.**"
   ]
  },
  {
   "cell_type": "markdown",
   "id": "74f51a99",
   "metadata": {},
   "source": [
    "This work is for general quantum optimal control problems, so asking for specific constraints, or representations on each variable in the state/control doesn't always make a ton of sense."
   ]
  }
 ],
 "metadata": {
  "kernelspec": {
   "display_name": "Julia 1.6.7",
   "language": "julia",
   "name": "julia-1.6"
  },
  "language_info": {
   "file_extension": ".jl",
   "mimetype": "application/julia",
   "name": "julia",
   "version": "1.6.7"
  }
 },
 "nbformat": 4,
 "nbformat_minor": 5
}
